{
 "cells": [
  {
   "cell_type": "code",
   "execution_count": 24,
   "id": "c4372b13",
   "metadata": {},
   "outputs": [
    {
     "data": {
      "text/plain": [
       "'C:\\\\Users\\\\abusa\\\\ML_Learning'"
      ]
     },
     "execution_count": 24,
     "metadata": {},
     "output_type": "execute_result"
    }
   ],
   "source": [
    "import os\n",
    "os.getcwd()"
   ]
  },
  {
   "cell_type": "code",
   "execution_count": 25,
   "id": "c8dd5456",
   "metadata": {},
   "outputs": [],
   "source": [
    "import pandas as pd"
   ]
  },
  {
   "cell_type": "code",
   "execution_count": 26,
   "id": "3263d51b",
   "metadata": {},
   "outputs": [],
   "source": [
    "df = pd.read_csv(\"train.csv\")"
   ]
  },
  {
   "cell_type": "code",
   "execution_count": 27,
   "id": "7da58dbc",
   "metadata": {},
   "outputs": [
    {
     "data": {
      "text/html": [
       "<div>\n",
       "<style scoped>\n",
       "    .dataframe tbody tr th:only-of-type {\n",
       "        vertical-align: middle;\n",
       "    }\n",
       "\n",
       "    .dataframe tbody tr th {\n",
       "        vertical-align: top;\n",
       "    }\n",
       "\n",
       "    .dataframe thead th {\n",
       "        text-align: right;\n",
       "    }\n",
       "</style>\n",
       "<table border=\"1\" class=\"dataframe\">\n",
       "  <thead>\n",
       "    <tr style=\"text-align: right;\">\n",
       "      <th></th>\n",
       "      <th>Id</th>\n",
       "      <th>height</th>\n",
       "      <th>weight</th>\n",
       "    </tr>\n",
       "  </thead>\n",
       "  <tbody>\n",
       "    <tr>\n",
       "      <th>0</th>\n",
       "      <td>1</td>\n",
       "      <td>70.49366</td>\n",
       "      <td>129.3840</td>\n",
       "    </tr>\n",
       "    <tr>\n",
       "      <th>1</th>\n",
       "      <td>2</td>\n",
       "      <td>65.23482</td>\n",
       "      <td>104.5786</td>\n",
       "    </tr>\n",
       "    <tr>\n",
       "      <th>2</th>\n",
       "      <td>3</td>\n",
       "      <td>67.59619</td>\n",
       "      <td>131.7669</td>\n",
       "    </tr>\n",
       "    <tr>\n",
       "      <th>3</th>\n",
       "      <td>4</td>\n",
       "      <td>68.51919</td>\n",
       "      <td>135.0276</td>\n",
       "    </tr>\n",
       "    <tr>\n",
       "      <th>4</th>\n",
       "      <td>5</td>\n",
       "      <td>67.07600</td>\n",
       "      <td>118.4065</td>\n",
       "    </tr>\n",
       "    <tr>\n",
       "      <th>...</th>\n",
       "      <td>...</td>\n",
       "      <td>...</td>\n",
       "      <td>...</td>\n",
       "    </tr>\n",
       "    <tr>\n",
       "      <th>19995</th>\n",
       "      <td>19996</td>\n",
       "      <td>66.69938</td>\n",
       "      <td>126.4284</td>\n",
       "    </tr>\n",
       "    <tr>\n",
       "      <th>19996</th>\n",
       "      <td>19997</td>\n",
       "      <td>70.60422</td>\n",
       "      <td>133.7741</td>\n",
       "    </tr>\n",
       "    <tr>\n",
       "      <th>19997</th>\n",
       "      <td>19998</td>\n",
       "      <td>67.57167</td>\n",
       "      <td>127.7977</td>\n",
       "    </tr>\n",
       "    <tr>\n",
       "      <th>19998</th>\n",
       "      <td>19999</td>\n",
       "      <td>69.83352</td>\n",
       "      <td>124.5901</td>\n",
       "    </tr>\n",
       "    <tr>\n",
       "      <th>19999</th>\n",
       "      <td>20000</td>\n",
       "      <td>65.69830</td>\n",
       "      <td>108.4186</td>\n",
       "    </tr>\n",
       "  </tbody>\n",
       "</table>\n",
       "<p>20000 rows × 3 columns</p>\n",
       "</div>"
      ],
      "text/plain": [
       "          Id    height    weight\n",
       "0          1  70.49366  129.3840\n",
       "1          2  65.23482  104.5786\n",
       "2          3  67.59619  131.7669\n",
       "3          4  68.51919  135.0276\n",
       "4          5  67.07600  118.4065\n",
       "...      ...       ...       ...\n",
       "19995  19996  66.69938  126.4284\n",
       "19996  19997  70.60422  133.7741\n",
       "19997  19998  67.57167  127.7977\n",
       "19998  19999  69.83352  124.5901\n",
       "19999  20000  65.69830  108.4186\n",
       "\n",
       "[20000 rows x 3 columns]"
      ]
     },
     "execution_count": 27,
     "metadata": {},
     "output_type": "execute_result"
    }
   ],
   "source": [
    "df"
   ]
  },
  {
   "cell_type": "code",
   "execution_count": 28,
   "id": "7baa5f26",
   "metadata": {},
   "outputs": [
    {
     "data": {
      "text/html": [
       "<div>\n",
       "<style scoped>\n",
       "    .dataframe tbody tr th:only-of-type {\n",
       "        vertical-align: middle;\n",
       "    }\n",
       "\n",
       "    .dataframe tbody tr th {\n",
       "        vertical-align: top;\n",
       "    }\n",
       "\n",
       "    .dataframe thead th {\n",
       "        text-align: right;\n",
       "    }\n",
       "</style>\n",
       "<table border=\"1\" class=\"dataframe\">\n",
       "  <thead>\n",
       "    <tr style=\"text-align: right;\">\n",
       "      <th></th>\n",
       "      <th>Id</th>\n",
       "      <th>height</th>\n",
       "      <th>weight</th>\n",
       "    </tr>\n",
       "  </thead>\n",
       "  <tbody>\n",
       "    <tr>\n",
       "      <th>0</th>\n",
       "      <td>1</td>\n",
       "      <td>70.49366</td>\n",
       "      <td>129.3840</td>\n",
       "    </tr>\n",
       "    <tr>\n",
       "      <th>1</th>\n",
       "      <td>2</td>\n",
       "      <td>65.23482</td>\n",
       "      <td>104.5786</td>\n",
       "    </tr>\n",
       "    <tr>\n",
       "      <th>2</th>\n",
       "      <td>3</td>\n",
       "      <td>67.59619</td>\n",
       "      <td>131.7669</td>\n",
       "    </tr>\n",
       "    <tr>\n",
       "      <th>3</th>\n",
       "      <td>4</td>\n",
       "      <td>68.51919</td>\n",
       "      <td>135.0276</td>\n",
       "    </tr>\n",
       "    <tr>\n",
       "      <th>4</th>\n",
       "      <td>5</td>\n",
       "      <td>67.07600</td>\n",
       "      <td>118.4065</td>\n",
       "    </tr>\n",
       "  </tbody>\n",
       "</table>\n",
       "</div>"
      ],
      "text/plain": [
       "   Id    height    weight\n",
       "0   1  70.49366  129.3840\n",
       "1   2  65.23482  104.5786\n",
       "2   3  67.59619  131.7669\n",
       "3   4  68.51919  135.0276\n",
       "4   5  67.07600  118.4065"
      ]
     },
     "execution_count": 28,
     "metadata": {},
     "output_type": "execute_result"
    }
   ],
   "source": [
    "df.head()"
   ]
  },
  {
   "cell_type": "code",
   "execution_count": 29,
   "id": "798c7207",
   "metadata": {},
   "outputs": [
    {
     "data": {
      "text/html": [
       "<div>\n",
       "<style scoped>\n",
       "    .dataframe tbody tr th:only-of-type {\n",
       "        vertical-align: middle;\n",
       "    }\n",
       "\n",
       "    .dataframe tbody tr th {\n",
       "        vertical-align: top;\n",
       "    }\n",
       "\n",
       "    .dataframe thead th {\n",
       "        text-align: right;\n",
       "    }\n",
       "</style>\n",
       "<table border=\"1\" class=\"dataframe\">\n",
       "  <thead>\n",
       "    <tr style=\"text-align: right;\">\n",
       "      <th></th>\n",
       "      <th>Id</th>\n",
       "      <th>height</th>\n",
       "      <th>weight</th>\n",
       "    </tr>\n",
       "  </thead>\n",
       "  <tbody>\n",
       "    <tr>\n",
       "      <th>19995</th>\n",
       "      <td>19996</td>\n",
       "      <td>66.69938</td>\n",
       "      <td>126.4284</td>\n",
       "    </tr>\n",
       "    <tr>\n",
       "      <th>19996</th>\n",
       "      <td>19997</td>\n",
       "      <td>70.60422</td>\n",
       "      <td>133.7741</td>\n",
       "    </tr>\n",
       "    <tr>\n",
       "      <th>19997</th>\n",
       "      <td>19998</td>\n",
       "      <td>67.57167</td>\n",
       "      <td>127.7977</td>\n",
       "    </tr>\n",
       "    <tr>\n",
       "      <th>19998</th>\n",
       "      <td>19999</td>\n",
       "      <td>69.83352</td>\n",
       "      <td>124.5901</td>\n",
       "    </tr>\n",
       "    <tr>\n",
       "      <th>19999</th>\n",
       "      <td>20000</td>\n",
       "      <td>65.69830</td>\n",
       "      <td>108.4186</td>\n",
       "    </tr>\n",
       "  </tbody>\n",
       "</table>\n",
       "</div>"
      ],
      "text/plain": [
       "          Id    height    weight\n",
       "19995  19996  66.69938  126.4284\n",
       "19996  19997  70.60422  133.7741\n",
       "19997  19998  67.57167  127.7977\n",
       "19998  19999  69.83352  124.5901\n",
       "19999  20000  65.69830  108.4186"
      ]
     },
     "execution_count": 29,
     "metadata": {},
     "output_type": "execute_result"
    }
   ],
   "source": [
    "df.tail()"
   ]
  },
  {
   "cell_type": "code",
   "execution_count": 30,
   "id": "dd2e430f",
   "metadata": {},
   "outputs": [
    {
     "data": {
      "text/plain": [
       "(20000, 3)"
      ]
     },
     "execution_count": 30,
     "metadata": {},
     "output_type": "execute_result"
    }
   ],
   "source": [
    "df.shape"
   ]
  },
  {
   "cell_type": "markdown",
   "id": "4e5c82db",
   "metadata": {},
   "source": [
    "# working change directory from different folder"
   ]
  },
  {
   "cell_type": "code",
   "execution_count": 31,
   "id": "4306bec1",
   "metadata": {},
   "outputs": [],
   "source": [
    "#os.chdir(\"path link\\\\ kore dibo \\ er jaygay\")"
   ]
  },
  {
   "cell_type": "code",
   "execution_count": 32,
   "id": "b95e7fc7",
   "metadata": {},
   "outputs": [],
   "source": [
    "import matplotlib.pyplot as plt"
   ]
  },
  {
   "cell_type": "code",
   "execution_count": 33,
   "id": "1647d8cf",
   "metadata": {},
   "outputs": [],
   "source": [
    "import numpy as np"
   ]
  },
  {
   "cell_type": "code",
   "execution_count": 34,
   "id": "a4fbfa08",
   "metadata": {},
   "outputs": [
    {
     "data": {
      "text/plain": [
       "Text(0, 0.5, 'weighgt')"
      ]
     },
     "execution_count": 34,
     "metadata": {},
     "output_type": "execute_result"
    },
    {
     "data": {
      "image/png": "[encoded data removed]",
      "text/plain": [
       "<Figure size 432x288 with 1 Axes>"
      ]
     },
     "metadata": {
      "needs_background": "light"
     },
     "output_type": "display_data"
    }
   ],
   "source": [
    "#Data_Viz\n",
    "plt.scatter(df.height,df.weight,color = 'red')\n",
    "plt.xlabel('height',color = 'red')\n",
    "plt.ylabel('weighgt')"
   ]
  },
  {
   "cell_type": "code",
   "execution_count": 35,
   "id": "0aa842c0",
   "metadata": {},
   "outputs": [
    {
     "data": {
      "text/plain": [
       "Text(0, 0.5, 'weighgt')"
      ]
     },
     "execution_count": 35,
     "metadata": {},
     "output_type": "execute_result"
    },
    {
     "data": {
      "image/png": "[encoded data removed]",
      "text/plain": [
       "<Figure size 432x288 with 1 Axes>"
      ]
     },
     "metadata": {
      "needs_background": "light"
     },
     "output_type": "display_data"
    }
   ],
   "source": [
    "#Data_Viz\n",
    "plt.scatter(df['height'],df['weight'],color = 'black')\n",
    "plt.xlabel('height',color = 'red')\n",
    "plt.ylabel('weighgt')"
   ]
  },
  {
   "cell_type": "code",
   "execution_count": 36,
   "id": "ef704026",
   "metadata": {},
   "outputs": [
    {
     "data": {
      "text/plain": [
       "67.9952271889993"
      ]
     },
     "execution_count": 36,
     "metadata": {},
     "output_type": "execute_result"
    }
   ],
   "source": [
    "df.height.mean()"
   ]
  },
  {
   "cell_type": "code",
   "execution_count": 37,
   "id": "b5fbb16c",
   "metadata": {},
   "outputs": [
    {
     "data": {
      "text/plain": [
       "67.9952271889993"
      ]
     },
     "execution_count": 37,
     "metadata": {},
     "output_type": "execute_result"
    }
   ],
   "source": [
    "df['height'].mean() #col name space thakle (.) diye hoy na tkn [] diye anbo example my name"
   ]
  },
  {
   "cell_type": "code",
   "execution_count": 38,
   "id": "1c39f230",
   "metadata": {},
   "outputs": [
    {
     "data": {
      "text/plain": [
       "127.09731392899991"
      ]
     },
     "execution_count": 38,
     "metadata": {},
     "output_type": "execute_result"
    }
   ],
   "source": [
    "df.weight.mean()"
   ]
  },
  {
   "cell_type": "code",
   "execution_count": 39,
   "id": "e097b9b4",
   "metadata": {},
   "outputs": [],
   "source": [
    "x = df[['height']]\n",
    "y = df['weight']"
   ]
  },
  {
   "cell_type": "code",
   "execution_count": 40,
   "id": "7a824c9a",
   "metadata": {},
   "outputs": [],
   "source": [
    "# sep data for test & train\n",
    "\n",
    "from sklearn.model_selection import train_test_split\n",
    "xtrain, xtest, ytrain, ytest = train_test_split(x,y,train_size=.70, random_state =1)\n"
   ]
  },
  {
   "cell_type": "code",
   "execution_count": 41,
   "id": "57e92f8a",
   "metadata": {},
   "outputs": [
    {
     "data": {
      "text/html": [
       "<div>\n",
       "<style scoped>\n",
       "    .dataframe tbody tr th:only-of-type {\n",
       "        vertical-align: middle;\n",
       "    }\n",
       "\n",
       "    .dataframe tbody tr th {\n",
       "        vertical-align: top;\n",
       "    }\n",
       "\n",
       "    .dataframe thead th {\n",
       "        text-align: right;\n",
       "    }\n",
       "</style>\n",
       "<table border=\"1\" class=\"dataframe\">\n",
       "  <thead>\n",
       "    <tr style=\"text-align: right;\">\n",
       "      <th></th>\n",
       "      <th>height</th>\n",
       "    </tr>\n",
       "  </thead>\n",
       "  <tbody>\n",
       "    <tr>\n",
       "      <th>11408</th>\n",
       "      <td>65.04087</td>\n",
       "    </tr>\n",
       "    <tr>\n",
       "      <th>3616</th>\n",
       "      <td>68.18368</td>\n",
       "    </tr>\n",
       "    <tr>\n",
       "      <th>9747</th>\n",
       "      <td>70.42201</td>\n",
       "    </tr>\n",
       "    <tr>\n",
       "      <th>6915</th>\n",
       "      <td>68.46795</td>\n",
       "    </tr>\n",
       "    <tr>\n",
       "      <th>4888</th>\n",
       "      <td>71.21834</td>\n",
       "    </tr>\n",
       "    <tr>\n",
       "      <th>...</th>\n",
       "      <td>...</td>\n",
       "    </tr>\n",
       "    <tr>\n",
       "      <th>10955</th>\n",
       "      <td>68.20536</td>\n",
       "    </tr>\n",
       "    <tr>\n",
       "      <th>17289</th>\n",
       "      <td>65.77980</td>\n",
       "    </tr>\n",
       "    <tr>\n",
       "      <th>5192</th>\n",
       "      <td>70.73673</td>\n",
       "    </tr>\n",
       "    <tr>\n",
       "      <th>12172</th>\n",
       "      <td>66.88904</td>\n",
       "    </tr>\n",
       "    <tr>\n",
       "      <th>235</th>\n",
       "      <td>67.20582</td>\n",
       "    </tr>\n",
       "  </tbody>\n",
       "</table>\n",
       "<p>14000 rows × 1 columns</p>\n",
       "</div>"
      ],
      "text/plain": [
       "         height\n",
       "11408  65.04087\n",
       "3616   68.18368\n",
       "9747   70.42201\n",
       "6915   68.46795\n",
       "4888   71.21834\n",
       "...         ...\n",
       "10955  68.20536\n",
       "17289  65.77980\n",
       "5192   70.73673\n",
       "12172  66.88904\n",
       "235    67.20582\n",
       "\n",
       "[14000 rows x 1 columns]"
      ]
     },
     "execution_count": 41,
     "metadata": {},
     "output_type": "execute_result"
    }
   ],
   "source": [
    "xtrain"
   ]
  },
  {
   "cell_type": "code",
   "execution_count": 42,
   "id": "0c142a13",
   "metadata": {},
   "outputs": [
    {
     "data": {
      "text/plain": [
       "11408    131.9553\n",
       "3616     135.9276\n",
       "9747     132.0630\n",
       "6915     129.2263\n",
       "4888     131.4940\n",
       "           ...   \n",
       "10955    128.2957\n",
       "17289    148.7053\n",
       "5192     121.2629\n",
       "12172    108.9186\n",
       "235      112.2300\n",
       "Name: weight, Length: 14000, dtype: float64"
      ]
     },
     "execution_count": 42,
     "metadata": {},
     "output_type": "execute_result"
    }
   ],
   "source": [
    "ytrain"
   ]
  },
  {
   "cell_type": "code",
   "execution_count": 43,
   "id": "b15e0fbf",
   "metadata": {},
   "outputs": [],
   "source": [
    "from sklearn.linear_model import LinearRegression\n",
    "reg = LinearRegression()"
   ]
  },
  {
   "cell_type": "code",
   "execution_count": 44,
   "id": "4a94da58",
   "metadata": {},
   "outputs": [
    {
     "data": {
      "text/plain": [
       "LinearRegression()"
      ]
     },
     "execution_count": 44,
     "metadata": {},
     "output_type": "execute_result"
    }
   ],
   "source": [
    "reg.fit(xtrain,ytrain)"
   ]
  },
  {
   "cell_type": "code",
   "execution_count": 45,
   "id": "3262b68f",
   "metadata": {},
   "outputs": [
    {
     "data": {
      "text/plain": [
       "array([3.09085741])"
      ]
     },
     "execution_count": 45,
     "metadata": {},
     "output_type": "execute_result"
    }
   ],
   "source": [
    "reg.coef_"
   ]
  },
  {
   "cell_type": "code",
   "execution_count": 46,
   "id": "7f515969",
   "metadata": {},
   "outputs": [
    {
     "data": {
      "text/plain": [
       "-83.10922322195229"
      ]
     },
     "execution_count": 46,
     "metadata": {},
     "output_type": "execute_result"
    }
   ],
   "source": [
    "reg.intercept_"
   ]
  },
  {
   "cell_type": "code",
   "execution_count": 47,
   "id": "ed471922",
   "metadata": {},
   "outputs": [
    {
     "data": {
      "text/plain": [
       "array([134.77662799])"
      ]
     },
     "execution_count": 47,
     "metadata": {},
     "output_type": "execute_result"
    }
   ],
   "source": [
    "# y = mx+c\n",
    "m = reg.coef_\n",
    "c = reg.intercept_\n",
    "x = 70.49366\n",
    "y = m*x+c\n",
    "y"
   ]
  },
  {
   "cell_type": "code",
   "execution_count": 48,
   "id": "24948676",
   "metadata": {},
   "outputs": [
    {
     "data": {
      "text/plain": [
       "array([134.77662799])"
      ]
     },
     "execution_count": 48,
     "metadata": {},
     "output_type": "execute_result"
    }
   ],
   "source": [
    "reg.predict([[70.49366]])"
   ]
  },
  {
   "cell_type": "code",
   "execution_count": 49,
   "id": "916ab6f8",
   "metadata": {},
   "outputs": [],
   "source": [
    "df['pred_weight'] = reg.predict(df[['height']])"
   ]
  },
  {
   "cell_type": "code",
   "execution_count": 50,
   "id": "e75e64f5",
   "metadata": {},
   "outputs": [
    {
     "data": {
      "text/html": [
       "<div>\n",
       "<style scoped>\n",
       "    .dataframe tbody tr th:only-of-type {\n",
       "        vertical-align: middle;\n",
       "    }\n",
       "\n",
       "    .dataframe tbody tr th {\n",
       "        vertical-align: top;\n",
       "    }\n",
       "\n",
       "    .dataframe thead th {\n",
       "        text-align: right;\n",
       "    }\n",
       "</style>\n",
       "<table border=\"1\" class=\"dataframe\">\n",
       "  <thead>\n",
       "    <tr style=\"text-align: right;\">\n",
       "      <th></th>\n",
       "      <th>Id</th>\n",
       "      <th>height</th>\n",
       "      <th>weight</th>\n",
       "      <th>pred_weight</th>\n",
       "    </tr>\n",
       "  </thead>\n",
       "  <tbody>\n",
       "    <tr>\n",
       "      <th>0</th>\n",
       "      <td>1</td>\n",
       "      <td>70.49366</td>\n",
       "      <td>129.3840</td>\n",
       "      <td>134.776628</td>\n",
       "    </tr>\n",
       "    <tr>\n",
       "      <th>1</th>\n",
       "      <td>2</td>\n",
       "      <td>65.23482</td>\n",
       "      <td>104.5786</td>\n",
       "      <td>118.522303</td>\n",
       "    </tr>\n",
       "    <tr>\n",
       "      <th>2</th>\n",
       "      <td>3</td>\n",
       "      <td>67.59619</td>\n",
       "      <td>131.7669</td>\n",
       "      <td>125.820961</td>\n",
       "    </tr>\n",
       "    <tr>\n",
       "      <th>3</th>\n",
       "      <td>4</td>\n",
       "      <td>68.51919</td>\n",
       "      <td>135.0276</td>\n",
       "      <td>128.673823</td>\n",
       "    </tr>\n",
       "    <tr>\n",
       "      <th>4</th>\n",
       "      <td>5</td>\n",
       "      <td>67.07600</td>\n",
       "      <td>118.4065</td>\n",
       "      <td>124.213128</td>\n",
       "    </tr>\n",
       "    <tr>\n",
       "      <th>5</th>\n",
       "      <td>6</td>\n",
       "      <td>66.85590</td>\n",
       "      <td>106.8363</td>\n",
       "      <td>123.532831</td>\n",
       "    </tr>\n",
       "    <tr>\n",
       "      <th>6</th>\n",
       "      <td>7</td>\n",
       "      <td>69.52859</td>\n",
       "      <td>109.7608</td>\n",
       "      <td>131.793734</td>\n",
       "    </tr>\n",
       "    <tr>\n",
       "      <th>7</th>\n",
       "      <td>8</td>\n",
       "      <td>73.32067</td>\n",
       "      <td>131.1796</td>\n",
       "      <td>143.514513</td>\n",
       "    </tr>\n",
       "    <tr>\n",
       "      <th>8</th>\n",
       "      <td>9</td>\n",
       "      <td>71.99579</td>\n",
       "      <td>120.0237</td>\n",
       "      <td>139.419498</td>\n",
       "    </tr>\n",
       "    <tr>\n",
       "      <th>9</th>\n",
       "      <td>10</td>\n",
       "      <td>69.57790</td>\n",
       "      <td>145.1589</td>\n",
       "      <td>131.946144</td>\n",
       "    </tr>\n",
       "  </tbody>\n",
       "</table>\n",
       "</div>"
      ],
      "text/plain": [
       "   Id    height    weight  pred_weight\n",
       "0   1  70.49366  129.3840   134.776628\n",
       "1   2  65.23482  104.5786   118.522303\n",
       "2   3  67.59619  131.7669   125.820961\n",
       "3   4  68.51919  135.0276   128.673823\n",
       "4   5  67.07600  118.4065   124.213128\n",
       "5   6  66.85590  106.8363   123.532831\n",
       "6   7  69.52859  109.7608   131.793734\n",
       "7   8  73.32067  131.1796   143.514513\n",
       "8   9  71.99579  120.0237   139.419498\n",
       "9  10  69.57790  145.1589   131.946144"
      ]
     },
     "execution_count": 50,
     "metadata": {},
     "output_type": "execute_result"
    }
   ],
   "source": [
    "df.head(10)"
   ]
  },
  {
   "cell_type": "code",
   "execution_count": 51,
   "id": "67664999",
   "metadata": {},
   "outputs": [
    {
     "data": {
      "text/plain": [
       "0.2587506146083218"
      ]
     },
     "execution_count": 51,
     "metadata": {},
     "output_type": "execute_result"
    }
   ],
   "source": [
    "reg.score(xtest,ytest)"
   ]
  },
  {
   "cell_type": "code",
   "execution_count": 54,
   "id": "1e5004c1",
   "metadata": {},
   "outputs": [
    {
     "data": {
      "text/plain": [
       "Text(0, 0.5, 'weighgt')"
      ]
     },
     "execution_count": 54,
     "metadata": {},
     "output_type": "execute_result"
    },
    {
     "data": {
      "image/png": "[encoded data removed]",
      "text/plain": [
       "<Figure size 432x288 with 1 Axes>"
      ]
     },
     "metadata": {
      "needs_background": "light"
     },
     "output_type": "display_data"
    }
   ],
   "source": [
    "plt.plot(df.height, reg.predict(df[['height']]))\n",
    "\n",
    "#Data_Viz\n",
    "plt.scatter(df['height'],df['weight'],color = 'red')\n",
    "plt.xlabel('height',color = 'red')\n",
    "plt.ylabel('weighgt')"
   ]
  },
  {
   "cell_type": "code",
   "execution_count": 53,
   "id": "6ea7ead1",
   "metadata": {},
   "outputs": [
    {
     "data": {
      "text/plain": [
       "Text(0, 0.5, 'weighgt')"
      ]
     },
     "execution_count": 53,
     "metadata": {},
     "output_type": "execute_result"
    },
    {
     "data": {
      "image/png": "[encoded data removed]",
      "text/plain": [
       "<Figure size 432x288 with 1 Axes>"
      ]
     },
     "metadata": {
      "needs_background": "light"
     },
     "output_type": "display_data"
    }
   ],
   "source": [
    "plt.plot(df.height, df.pred_weight)\n",
    "\n",
    "#Data_Viz\n",
    "plt.scatter(df['height'],df['weight'],color = 'red')\n",
    "plt.xlabel('height',color = 'red')\n",
    "plt.ylabel('weighgt')"
   ]
  },
  {
   "cell_type": "markdown",
   "id": "998d43ad",
   "metadata": {},
   "source": [
    "# Save ml model"
   ]
  },
  {
   "cell_type": "code",
   "execution_count": 82,
   "id": "dc25a262",
   "metadata": {},
   "outputs": [],
   "source": [
    "import pickle as pk\n",
    "\n",
    "with open('MY_LR1','wb') as files:#write binary\n",
    "    pk.dump(reg,files)"
   ]
  },
  {
   "cell_type": "code",
   "execution_count": 83,
   "id": "f8e7ea59",
   "metadata": {},
   "outputs": [],
   "source": [
    "with open('MY_LR1','rb')as files: #read binary\n",
    "    model = pk.load(files)\n"
   ]
  },
  {
   "cell_type": "code",
   "execution_count": 84,
   "id": "62325a6e",
   "metadata": {},
   "outputs": [
    {
     "data": {
      "text/plain": [
       "array([134.77662799])"
      ]
     },
     "execution_count": 84,
     "metadata": {},
     "output_type": "execute_result"
    }
   ],
   "source": [
    "model.predict([[70.49366]])"
   ]
  },
  {
   "cell_type": "code",
   "execution_count": 85,
   "id": "b3dd6994",
   "metadata": {},
   "outputs": [
    {
     "data": {
      "text/plain": [
       "0.2587506146083218"
      ]
     },
     "execution_count": 85,
     "metadata": {},
     "output_type": "execute_result"
    }
   ],
   "source": [
    "model.score(xtest,ytest)"
   ]
  },
  {
   "cell_type": "code",
   "execution_count": 87,
   "id": "d4ed6eac",
   "metadata": {},
   "outputs": [],
   "source": [
    "#in one line save\n",
    "pk.dump(reg,open('MY_ML2','wb'))"
   ]
  },
  {
   "cell_type": "code",
   "execution_count": 89,
   "id": "72cb7ffd",
   "metadata": {},
   "outputs": [],
   "source": [
    "model_2 = pk.load(open('MY_ML2','rb'))"
   ]
  },
  {
   "cell_type": "code",
   "execution_count": 90,
   "id": "65857aa9",
   "metadata": {},
   "outputs": [
    {
     "data": {
      "text/plain": [
       "array([134.77662799])"
      ]
     },
     "execution_count": 90,
     "metadata": {},
     "output_type": "execute_result"
    }
   ],
   "source": [
    "model_2.predict([[70.49366]])"
   ]
  },
  {
   "cell_type": "code",
   "execution_count": 91,
   "id": "257bd063",
   "metadata": {},
   "outputs": [],
   "source": [
    "#Easy to save"
   ]
  },
  {
   "cell_type": "code",
   "execution_count": 92,
   "id": "3d182750",
   "metadata": {},
   "outputs": [],
   "source": [
    "import joblib as jb\n"
   ]
  },
  {
   "cell_type": "code",
   "execution_count": 93,
   "id": "833ec205",
   "metadata": {},
   "outputs": [
    {
     "data": {
      "text/plain": [
       "['ML3']"
      ]
     },
     "execution_count": 93,
     "metadata": {},
     "output_type": "execute_result"
    }
   ],
   "source": [
    "jb.dump(reg,'ML3')\n"
   ]
  },
  {
   "cell_type": "code",
   "execution_count": 94,
   "id": "b0b57226",
   "metadata": {},
   "outputs": [],
   "source": [
    "model_3 = jb.load('ML3')"
   ]
  },
  {
   "cell_type": "code",
   "execution_count": 95,
   "id": "54c091ac",
   "metadata": {},
   "outputs": [
    {
     "data": {
      "text/plain": [
       "array([134.77662799])"
      ]
     },
     "execution_count": 95,
     "metadata": {},
     "output_type": "execute_result"
    }
   ],
   "source": [
    "model_3.predict([[70.49366]])"
   ]
  }
 ],
 "metadata": {
  "kernelspec": {
   "display_name": "Python 3 (ipykernel)",
   "language": "python",
   "name": "python3"
  },
  "language_info": {
   "codemirror_mode": {
    "name": "ipython",
    "version": 3
   },
   "file_extension": ".py",
   "mimetype": "text/x-python",
   "name": "python",
   "nbconvert_exporter": "python",
   "pygments_lexer": "ipython3",
   "version": "3.9.7"
  }
 },
 "nbformat": 4,
 "nbformat_minor": 5
}

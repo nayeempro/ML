{
 "cells": [
  {
   "cell_type": "code",
   "execution_count": 8,
   "id": "1f22346c",
   "metadata": {},
   "outputs": [],
   "source": [
    "import os\n"
   ]
  },
  {
   "cell_type": "code",
   "execution_count": 9,
   "id": "71d0aa35",
   "metadata": {},
   "outputs": [
    {
     "data": {
      "text/plain": [
       "'C:\\\\Users\\\\abusa\\\\ML_Learning'"
      ]
     },
     "execution_count": 9,
     "metadata": {},
     "output_type": "execute_result"
    }
   ],
   "source": [
    "os.getcwd()"
   ]
  },
  {
   "cell_type": "code",
   "execution_count": 10,
   "id": "0c5a4715",
   "metadata": {},
   "outputs": [],
   "source": [
    "import pandas as pd"
   ]
  },
  {
   "cell_type": "code",
   "execution_count": 11,
   "id": "80616a36",
   "metadata": {},
   "outputs": [],
   "source": [
    "df = pd.read_csv(\"hwdata.csv\")"
   ]
  },
  {
   "cell_type": "code",
   "execution_count": 12,
   "id": "22f6d6b1",
   "metadata": {},
   "outputs": [
    {
     "data": {
      "text/html": [
       "<div>\n",
       "<style scoped>\n",
       "    .dataframe tbody tr th:only-of-type {\n",
       "        vertical-align: middle;\n",
       "    }\n",
       "\n",
       "    .dataframe tbody tr th {\n",
       "        vertical-align: top;\n",
       "    }\n",
       "\n",
       "    .dataframe thead th {\n",
       "        text-align: right;\n",
       "    }\n",
       "</style>\n",
       "<table border=\"1\" class=\"dataframe\">\n",
       "  <thead>\n",
       "    <tr style=\"text-align: right;\">\n",
       "      <th></th>\n",
       "      <th>Height</th>\n",
       "      <th>Weight</th>\n",
       "    </tr>\n",
       "  </thead>\n",
       "  <tbody>\n",
       "    <tr>\n",
       "      <th>0</th>\n",
       "      <td>73.847017</td>\n",
       "      <td>241.893563</td>\n",
       "    </tr>\n",
       "    <tr>\n",
       "      <th>1</th>\n",
       "      <td>68.781904</td>\n",
       "      <td>162.310473</td>\n",
       "    </tr>\n",
       "    <tr>\n",
       "      <th>2</th>\n",
       "      <td>74.110105</td>\n",
       "      <td>212.740856</td>\n",
       "    </tr>\n",
       "    <tr>\n",
       "      <th>3</th>\n",
       "      <td>71.730978</td>\n",
       "      <td>220.042470</td>\n",
       "    </tr>\n",
       "    <tr>\n",
       "      <th>4</th>\n",
       "      <td>69.881796</td>\n",
       "      <td>206.349801</td>\n",
       "    </tr>\n",
       "    <tr>\n",
       "      <th>5</th>\n",
       "      <td>67.253016</td>\n",
       "      <td>152.212156</td>\n",
       "    </tr>\n",
       "    <tr>\n",
       "      <th>6</th>\n",
       "      <td>68.785081</td>\n",
       "      <td>183.927889</td>\n",
       "    </tr>\n",
       "    <tr>\n",
       "      <th>7</th>\n",
       "      <td>68.348516</td>\n",
       "      <td>167.971111</td>\n",
       "    </tr>\n",
       "    <tr>\n",
       "      <th>8</th>\n",
       "      <td>67.018950</td>\n",
       "      <td>175.929440</td>\n",
       "    </tr>\n",
       "    <tr>\n",
       "      <th>9</th>\n",
       "      <td>63.456494</td>\n",
       "      <td>156.399676</td>\n",
       "    </tr>\n",
       "  </tbody>\n",
       "</table>\n",
       "</div>"
      ],
      "text/plain": [
       "      Height      Weight\n",
       "0  73.847017  241.893563\n",
       "1  68.781904  162.310473\n",
       "2  74.110105  212.740856\n",
       "3  71.730978  220.042470\n",
       "4  69.881796  206.349801\n",
       "5  67.253016  152.212156\n",
       "6  68.785081  183.927889\n",
       "7  68.348516  167.971111\n",
       "8  67.018950  175.929440\n",
       "9  63.456494  156.399676"
      ]
     },
     "execution_count": 12,
     "metadata": {},
     "output_type": "execute_result"
    }
   ],
   "source": [
    "df.head(10)"
   ]
  },
  {
   "cell_type": "markdown",
   "id": "8f267cc5",
   "metadata": {},
   "source": [
    "# Feature Transformation"
   ]
  },
  {
   "cell_type": "markdown",
   "id": "59a73c86",
   "metadata": {},
   "source": [
    "MEAN MAX SCALER"
   ]
  },
  {
   "cell_type": "code",
   "execution_count": 13,
   "id": "da074de9",
   "metadata": {},
   "outputs": [],
   "source": [
    "from sklearn.preprocessing import MinMaxScaler"
   ]
  },
  {
   "cell_type": "code",
   "execution_count": 14,
   "id": "499b001f",
   "metadata": {},
   "outputs": [],
   "source": [
    "m = MinMaxScaler() #create obj for min max scl."
   ]
  },
  {
   "cell_type": "code",
   "execution_count": 15,
   "id": "8727a8a4",
   "metadata": {},
   "outputs": [],
   "source": [
    "h_fit = m.fit(df[['Height']])  #fit height colum"
   ]
  },
  {
   "cell_type": "code",
   "execution_count": 16,
   "id": "eef558fc",
   "metadata": {},
   "outputs": [
    {
     "data": {
      "text/plain": [
       "MinMaxScaler()"
      ]
     },
     "execution_count": 16,
     "metadata": {},
     "output_type": "execute_result"
    }
   ],
   "source": [
    "h_fit "
   ]
  },
  {
   "cell_type": "code",
   "execution_count": 17,
   "id": "de3a40b5",
   "metadata": {},
   "outputs": [],
   "source": [
    "h_fit = m.transform(df[['Height']])"
   ]
  },
  {
   "cell_type": "code",
   "execution_count": 19,
   "id": "c19b8337",
   "metadata": {},
   "outputs": [
    {
     "data": {
      "text/plain": [
       "array([[0.73739928],\n",
       "       [0.47921348],\n",
       "       [0.75080977],\n",
       "       ...,\n",
       "       [0.74073967],\n",
       "       [0.40857036],\n",
       "       [0.6809184 ]])"
      ]
     },
     "execution_count": 19,
     "metadata": {},
     "output_type": "execute_result"
    }
   ],
   "source": [
    "h_fit"
   ]
  },
  {
   "cell_type": "code",
   "execution_count": 20,
   "id": "0a3f3fc0",
   "metadata": {},
   "outputs": [],
   "source": [
    "df['h_fit' ] = h_fit"
   ]
  },
  {
   "cell_type": "code",
   "execution_count": 21,
   "id": "169b5291",
   "metadata": {},
   "outputs": [
    {
     "data": {
      "text/html": [
       "<div>\n",
       "<style scoped>\n",
       "    .dataframe tbody tr th:only-of-type {\n",
       "        vertical-align: middle;\n",
       "    }\n",
       "\n",
       "    .dataframe tbody tr th {\n",
       "        vertical-align: top;\n",
       "    }\n",
       "\n",
       "    .dataframe thead th {\n",
       "        text-align: right;\n",
       "    }\n",
       "</style>\n",
       "<table border=\"1\" class=\"dataframe\">\n",
       "  <thead>\n",
       "    <tr style=\"text-align: right;\">\n",
       "      <th></th>\n",
       "      <th>Height</th>\n",
       "      <th>Weight</th>\n",
       "      <th>h_fit</th>\n",
       "    </tr>\n",
       "  </thead>\n",
       "  <tbody>\n",
       "    <tr>\n",
       "      <th>0</th>\n",
       "      <td>73.847017</td>\n",
       "      <td>241.893563</td>\n",
       "      <td>0.737399</td>\n",
       "    </tr>\n",
       "    <tr>\n",
       "      <th>1</th>\n",
       "      <td>68.781904</td>\n",
       "      <td>162.310473</td>\n",
       "      <td>0.479213</td>\n",
       "    </tr>\n",
       "    <tr>\n",
       "      <th>2</th>\n",
       "      <td>74.110105</td>\n",
       "      <td>212.740856</td>\n",
       "      <td>0.750810</td>\n",
       "    </tr>\n",
       "    <tr>\n",
       "      <th>3</th>\n",
       "      <td>71.730978</td>\n",
       "      <td>220.042470</td>\n",
       "      <td>0.629538</td>\n",
       "    </tr>\n",
       "    <tr>\n",
       "      <th>4</th>\n",
       "      <td>69.881796</td>\n",
       "      <td>206.349801</td>\n",
       "      <td>0.535279</td>\n",
       "    </tr>\n",
       "  </tbody>\n",
       "</table>\n",
       "</div>"
      ],
      "text/plain": [
       "      Height      Weight     h_fit\n",
       "0  73.847017  241.893563  0.737399\n",
       "1  68.781904  162.310473  0.479213\n",
       "2  74.110105  212.740856  0.750810\n",
       "3  71.730978  220.042470  0.629538\n",
       "4  69.881796  206.349801  0.535279"
      ]
     },
     "execution_count": 21,
     "metadata": {},
     "output_type": "execute_result"
    }
   ],
   "source": [
    "df.head()"
   ]
  },
  {
   "cell_type": "code",
   "execution_count": 34,
   "id": "22547f17",
   "metadata": {},
   "outputs": [],
   "source": [
    "w_fit = m.fit_transform(df[['Weight']])"
   ]
  },
  {
   "cell_type": "code",
   "execution_count": 35,
   "id": "c42665d6",
   "metadata": {},
   "outputs": [
    {
     "data": {
      "text/plain": [
       "array([[0.86241527],\n",
       "       [0.47270268],\n",
       "       [0.71965659],\n",
       "       ...,\n",
       "       [0.66916489],\n",
       "       [0.38439737],\n",
       "       [0.59469707]])"
      ]
     },
     "execution_count": 35,
     "metadata": {},
     "output_type": "execute_result"
    }
   ],
   "source": [
    "w_fit #problem"
   ]
  },
  {
   "cell_type": "code",
   "execution_count": 39,
   "id": "c02207e9",
   "metadata": {},
   "outputs": [
    {
     "data": {
      "text/html": [
       "<div>\n",
       "<style scoped>\n",
       "    .dataframe tbody tr th:only-of-type {\n",
       "        vertical-align: middle;\n",
       "    }\n",
       "\n",
       "    .dataframe tbody tr th {\n",
       "        vertical-align: top;\n",
       "    }\n",
       "\n",
       "    .dataframe thead th {\n",
       "        text-align: right;\n",
       "    }\n",
       "</style>\n",
       "<table border=\"1\" class=\"dataframe\">\n",
       "  <thead>\n",
       "    <tr style=\"text-align: right;\">\n",
       "      <th></th>\n",
       "      <th>Height</th>\n",
       "      <th>Weight</th>\n",
       "      <th>h_fit</th>\n",
       "    </tr>\n",
       "  </thead>\n",
       "  <tbody>\n",
       "    <tr>\n",
       "      <th>0</th>\n",
       "      <td>73.847017</td>\n",
       "      <td>241.893563</td>\n",
       "      <td>0.737399</td>\n",
       "    </tr>\n",
       "    <tr>\n",
       "      <th>1</th>\n",
       "      <td>68.781904</td>\n",
       "      <td>162.310473</td>\n",
       "      <td>0.479213</td>\n",
       "    </tr>\n",
       "    <tr>\n",
       "      <th>2</th>\n",
       "      <td>74.110105</td>\n",
       "      <td>212.740856</td>\n",
       "      <td>0.750810</td>\n",
       "    </tr>\n",
       "    <tr>\n",
       "      <th>3</th>\n",
       "      <td>71.730978</td>\n",
       "      <td>220.042470</td>\n",
       "      <td>0.629538</td>\n",
       "    </tr>\n",
       "    <tr>\n",
       "      <th>4</th>\n",
       "      <td>69.881796</td>\n",
       "      <td>206.349801</td>\n",
       "      <td>0.535279</td>\n",
       "    </tr>\n",
       "  </tbody>\n",
       "</table>\n",
       "</div>"
      ],
      "text/plain": [
       "      Height      Weight     h_fit\n",
       "0  73.847017  241.893563  0.737399\n",
       "1  68.781904  162.310473  0.479213\n",
       "2  74.110105  212.740856  0.750810\n",
       "3  71.730978  220.042470  0.629538\n",
       "4  69.881796  206.349801  0.535279"
      ]
     },
     "execution_count": 39,
     "metadata": {},
     "output_type": "execute_result"
    }
   ],
   "source": [
    "df.head()"
   ]
  },
  {
   "cell_type": "code",
   "execution_count": 42,
   "id": "dfe292e3",
   "metadata": {},
   "outputs": [],
   "source": [
    "df['w_fit'] = w_fit"
   ]
  },
  {
   "cell_type": "code",
   "execution_count": 43,
   "id": "2a36b045",
   "metadata": {},
   "outputs": [
    {
     "data": {
      "text/html": [
       "<div>\n",
       "<style scoped>\n",
       "    .dataframe tbody tr th:only-of-type {\n",
       "        vertical-align: middle;\n",
       "    }\n",
       "\n",
       "    .dataframe tbody tr th {\n",
       "        vertical-align: top;\n",
       "    }\n",
       "\n",
       "    .dataframe thead th {\n",
       "        text-align: right;\n",
       "    }\n",
       "</style>\n",
       "<table border=\"1\" class=\"dataframe\">\n",
       "  <thead>\n",
       "    <tr style=\"text-align: right;\">\n",
       "      <th></th>\n",
       "      <th>Height</th>\n",
       "      <th>Weight</th>\n",
       "      <th>h_fit</th>\n",
       "      <th>w_fit</th>\n",
       "    </tr>\n",
       "  </thead>\n",
       "  <tbody>\n",
       "    <tr>\n",
       "      <th>0</th>\n",
       "      <td>73.847017</td>\n",
       "      <td>241.893563</td>\n",
       "      <td>0.737399</td>\n",
       "      <td>0.862415</td>\n",
       "    </tr>\n",
       "    <tr>\n",
       "      <th>1</th>\n",
       "      <td>68.781904</td>\n",
       "      <td>162.310473</td>\n",
       "      <td>0.479213</td>\n",
       "      <td>0.472703</td>\n",
       "    </tr>\n",
       "    <tr>\n",
       "      <th>2</th>\n",
       "      <td>74.110105</td>\n",
       "      <td>212.740856</td>\n",
       "      <td>0.750810</td>\n",
       "      <td>0.719657</td>\n",
       "    </tr>\n",
       "    <tr>\n",
       "      <th>3</th>\n",
       "      <td>71.730978</td>\n",
       "      <td>220.042470</td>\n",
       "      <td>0.629538</td>\n",
       "      <td>0.755412</td>\n",
       "    </tr>\n",
       "    <tr>\n",
       "      <th>4</th>\n",
       "      <td>69.881796</td>\n",
       "      <td>206.349801</td>\n",
       "      <td>0.535279</td>\n",
       "      <td>0.688360</td>\n",
       "    </tr>\n",
       "  </tbody>\n",
       "</table>\n",
       "</div>"
      ],
      "text/plain": [
       "      Height      Weight     h_fit     w_fit\n",
       "0  73.847017  241.893563  0.737399  0.862415\n",
       "1  68.781904  162.310473  0.479213  0.472703\n",
       "2  74.110105  212.740856  0.750810  0.719657\n",
       "3  71.730978  220.042470  0.629538  0.755412\n",
       "4  69.881796  206.349801  0.535279  0.688360"
      ]
     },
     "execution_count": 43,
     "metadata": {},
     "output_type": "execute_result"
    }
   ],
   "source": [
    "df.head()"
   ]
  },
  {
   "cell_type": "markdown",
   "id": "f2b612b1",
   "metadata": {},
   "source": [
    "we want this rejult 3 to 7 instead 0 to 1"
   ]
  },
  {
   "cell_type": "code",
   "execution_count": 44,
   "id": "9f7ca213",
   "metadata": {},
   "outputs": [],
   "source": [
    "m1 = MinMaxScaler(feature_range = (3,4))"
   ]
  },
  {
   "cell_type": "code",
   "execution_count": 45,
   "id": "f9406c24",
   "metadata": {},
   "outputs": [],
   "source": [
    "h_fit1 = m1.fit_transform(df[['Height']]) "
   ]
  },
  {
   "cell_type": "code",
   "execution_count": 46,
   "id": "6f312b78",
   "metadata": {},
   "outputs": [
    {
     "data": {
      "text/plain": [
       "array([[3.73739928],\n",
       "       [3.47921348],\n",
       "       [3.75080977],\n",
       "       ...,\n",
       "       [3.74073967],\n",
       "       [3.40857036],\n",
       "       [3.6809184 ]])"
      ]
     },
     "execution_count": 46,
     "metadata": {},
     "output_type": "execute_result"
    }
   ],
   "source": [
    "h_fit1"
   ]
  },
  {
   "cell_type": "code",
   "execution_count": 47,
   "id": "c980540e",
   "metadata": {},
   "outputs": [],
   "source": [
    "df['h_fit1'] = h_fit1"
   ]
  },
  {
   "cell_type": "code",
   "execution_count": 48,
   "id": "ef12781d",
   "metadata": {},
   "outputs": [
    {
     "data": {
      "text/html": [
       "<div>\n",
       "<style scoped>\n",
       "    .dataframe tbody tr th:only-of-type {\n",
       "        vertical-align: middle;\n",
       "    }\n",
       "\n",
       "    .dataframe tbody tr th {\n",
       "        vertical-align: top;\n",
       "    }\n",
       "\n",
       "    .dataframe thead th {\n",
       "        text-align: right;\n",
       "    }\n",
       "</style>\n",
       "<table border=\"1\" class=\"dataframe\">\n",
       "  <thead>\n",
       "    <tr style=\"text-align: right;\">\n",
       "      <th></th>\n",
       "      <th>Height</th>\n",
       "      <th>Weight</th>\n",
       "      <th>h_fit</th>\n",
       "      <th>w_fit</th>\n",
       "      <th>h_fit1</th>\n",
       "    </tr>\n",
       "  </thead>\n",
       "  <tbody>\n",
       "    <tr>\n",
       "      <th>0</th>\n",
       "      <td>73.847017</td>\n",
       "      <td>241.893563</td>\n",
       "      <td>0.737399</td>\n",
       "      <td>0.862415</td>\n",
       "      <td>3.737399</td>\n",
       "    </tr>\n",
       "    <tr>\n",
       "      <th>1</th>\n",
       "      <td>68.781904</td>\n",
       "      <td>162.310473</td>\n",
       "      <td>0.479213</td>\n",
       "      <td>0.472703</td>\n",
       "      <td>3.479213</td>\n",
       "    </tr>\n",
       "    <tr>\n",
       "      <th>2</th>\n",
       "      <td>74.110105</td>\n",
       "      <td>212.740856</td>\n",
       "      <td>0.750810</td>\n",
       "      <td>0.719657</td>\n",
       "      <td>3.750810</td>\n",
       "    </tr>\n",
       "    <tr>\n",
       "      <th>3</th>\n",
       "      <td>71.730978</td>\n",
       "      <td>220.042470</td>\n",
       "      <td>0.629538</td>\n",
       "      <td>0.755412</td>\n",
       "      <td>3.629538</td>\n",
       "    </tr>\n",
       "    <tr>\n",
       "      <th>4</th>\n",
       "      <td>69.881796</td>\n",
       "      <td>206.349801</td>\n",
       "      <td>0.535279</td>\n",
       "      <td>0.688360</td>\n",
       "      <td>3.535279</td>\n",
       "    </tr>\n",
       "  </tbody>\n",
       "</table>\n",
       "</div>"
      ],
      "text/plain": [
       "      Height      Weight     h_fit     w_fit    h_fit1\n",
       "0  73.847017  241.893563  0.737399  0.862415  3.737399\n",
       "1  68.781904  162.310473  0.479213  0.472703  3.479213\n",
       "2  74.110105  212.740856  0.750810  0.719657  3.750810\n",
       "3  71.730978  220.042470  0.629538  0.755412  3.629538\n",
       "4  69.881796  206.349801  0.535279  0.688360  3.535279"
      ]
     },
     "execution_count": 48,
     "metadata": {},
     "output_type": "execute_result"
    }
   ],
   "source": [
    "df.head()"
   ]
  },
  {
   "cell_type": "markdown",
   "id": "d2d5e7f5",
   "metadata": {},
   "source": [
    "# standardScaler"
   ]
  },
  {
   "cell_type": "code",
   "execution_count": 49,
   "id": "e183b080",
   "metadata": {},
   "outputs": [],
   "source": [
    "from sklearn.preprocessing import StandardScaler"
   ]
  },
  {
   "cell_type": "code",
   "execution_count": 50,
   "id": "70384c2e",
   "metadata": {},
   "outputs": [],
   "source": [
    "m2 = StandardScaler()"
   ]
  },
  {
   "cell_type": "code",
   "execution_count": 53,
   "id": "3afb08e3",
   "metadata": {},
   "outputs": [],
   "source": [
    "weight_std = m2.fit_transform(df[['Weight']])"
   ]
  },
  {
   "cell_type": "code",
   "execution_count": 57,
   "id": "cde65fe3",
   "metadata": {},
   "outputs": [
    {
     "data": {
      "text/plain": [
       "array([[ 2.76389481],\n",
       "       [-1.23519742],\n",
       "       [ 1.29895589],\n",
       "       ...,\n",
       "       [ 0.78082794],\n",
       "       [-2.14135518],\n",
       "       [ 0.01666563]])"
      ]
     },
     "execution_count": 57,
     "metadata": {},
     "output_type": "execute_result"
    }
   ],
   "source": [
    "weight_std"
   ]
  },
  {
   "cell_type": "code",
   "execution_count": 59,
   "id": "586634ba",
   "metadata": {},
   "outputs": [],
   "source": [
    "height_std = m2.fit_transform(df[['Height']])"
   ]
  },
  {
   "cell_type": "code",
   "execution_count": 60,
   "id": "ff44eac2",
   "metadata": {},
   "outputs": [
    {
     "data": {
      "text/plain": [
       "array([[ 1.68730259],\n",
       "       [-0.08484674],\n",
       "       [ 1.77935026],\n",
       "       ...,\n",
       "       [ 1.71023055],\n",
       "       [-0.56973071],\n",
       "       [ 1.29962618]])"
      ]
     },
     "execution_count": 60,
     "metadata": {},
     "output_type": "execute_result"
    }
   ],
   "source": [
    "height_std"
   ]
  },
  {
   "cell_type": "code",
   "execution_count": 61,
   "id": "933b41c6",
   "metadata": {},
   "outputs": [],
   "source": [
    "df['height_std'] = height_std"
   ]
  },
  {
   "cell_type": "code",
   "execution_count": 62,
   "id": "c088a9b8",
   "metadata": {},
   "outputs": [],
   "source": [
    "df['weight_std'] = weight_std"
   ]
  },
  {
   "cell_type": "code",
   "execution_count": 63,
   "id": "2e992241",
   "metadata": {},
   "outputs": [
    {
     "data": {
      "text/html": [
       "<div>\n",
       "<style scoped>\n",
       "    .dataframe tbody tr th:only-of-type {\n",
       "        vertical-align: middle;\n",
       "    }\n",
       "\n",
       "    .dataframe tbody tr th {\n",
       "        vertical-align: top;\n",
       "    }\n",
       "\n",
       "    .dataframe thead th {\n",
       "        text-align: right;\n",
       "    }\n",
       "</style>\n",
       "<table border=\"1\" class=\"dataframe\">\n",
       "  <thead>\n",
       "    <tr style=\"text-align: right;\">\n",
       "      <th></th>\n",
       "      <th>Height</th>\n",
       "      <th>Weight</th>\n",
       "      <th>h_fit</th>\n",
       "      <th>w_fit</th>\n",
       "      <th>h_fit1</th>\n",
       "      <th>height_std</th>\n",
       "      <th>weight_std</th>\n",
       "    </tr>\n",
       "  </thead>\n",
       "  <tbody>\n",
       "    <tr>\n",
       "      <th>0</th>\n",
       "      <td>73.847017</td>\n",
       "      <td>241.893563</td>\n",
       "      <td>0.737399</td>\n",
       "      <td>0.862415</td>\n",
       "      <td>3.737399</td>\n",
       "      <td>1.687303</td>\n",
       "      <td>2.763895</td>\n",
       "    </tr>\n",
       "    <tr>\n",
       "      <th>1</th>\n",
       "      <td>68.781904</td>\n",
       "      <td>162.310473</td>\n",
       "      <td>0.479213</td>\n",
       "      <td>0.472703</td>\n",
       "      <td>3.479213</td>\n",
       "      <td>-0.084847</td>\n",
       "      <td>-1.235197</td>\n",
       "    </tr>\n",
       "    <tr>\n",
       "      <th>2</th>\n",
       "      <td>74.110105</td>\n",
       "      <td>212.740856</td>\n",
       "      <td>0.750810</td>\n",
       "      <td>0.719657</td>\n",
       "      <td>3.750810</td>\n",
       "      <td>1.779350</td>\n",
       "      <td>1.298956</td>\n",
       "    </tr>\n",
       "    <tr>\n",
       "      <th>3</th>\n",
       "      <td>71.730978</td>\n",
       "      <td>220.042470</td>\n",
       "      <td>0.629538</td>\n",
       "      <td>0.755412</td>\n",
       "      <td>3.629538</td>\n",
       "      <td>0.946957</td>\n",
       "      <td>1.665866</td>\n",
       "    </tr>\n",
       "    <tr>\n",
       "      <th>4</th>\n",
       "      <td>69.881796</td>\n",
       "      <td>206.349801</td>\n",
       "      <td>0.535279</td>\n",
       "      <td>0.688360</td>\n",
       "      <td>3.535279</td>\n",
       "      <td>0.299976</td>\n",
       "      <td>0.977802</td>\n",
       "    </tr>\n",
       "  </tbody>\n",
       "</table>\n",
       "</div>"
      ],
      "text/plain": [
       "      Height      Weight     h_fit     w_fit    h_fit1  height_std  weight_std\n",
       "0  73.847017  241.893563  0.737399  0.862415  3.737399    1.687303    2.763895\n",
       "1  68.781904  162.310473  0.479213  0.472703  3.479213   -0.084847   -1.235197\n",
       "2  74.110105  212.740856  0.750810  0.719657  3.750810    1.779350    1.298956\n",
       "3  71.730978  220.042470  0.629538  0.755412  3.629538    0.946957    1.665866\n",
       "4  69.881796  206.349801  0.535279  0.688360  3.535279    0.299976    0.977802"
      ]
     },
     "execution_count": 63,
     "metadata": {},
     "output_type": "execute_result"
    }
   ],
   "source": [
    "df.head()"
   ]
  },
  {
   "cell_type": "markdown",
   "id": "6e8af5af",
   "metadata": {},
   "source": [
    "# Normalize"
   ]
  },
  {
   "cell_type": "code",
   "execution_count": 69,
   "id": "bf8a7e48",
   "metadata": {},
   "outputs": [],
   "source": [
    "from sklearn.preprocessing import Normalizer"
   ]
  },
  {
   "cell_type": "code",
   "execution_count": 70,
   "id": "2a584b1a",
   "metadata": {},
   "outputs": [],
   "source": [
    "m3 = Normalizer()"
   ]
  },
  {
   "cell_type": "code",
   "execution_count": 71,
   "id": "441ca4ff",
   "metadata": {},
   "outputs": [],
   "source": [
    "height_nrml = m3.fit_transform(df[['Height']])"
   ]
  },
  {
   "cell_type": "code",
   "execution_count": 72,
   "id": "6280293c",
   "metadata": {},
   "outputs": [
    {
     "data": {
      "text/plain": [
       "array([[1.],\n",
       "       [1.],\n",
       "       [1.],\n",
       "       ...,\n",
       "       [1.],\n",
       "       [1.],\n",
       "       [1.]])"
      ]
     },
     "execution_count": 72,
     "metadata": {},
     "output_type": "execute_result"
    }
   ],
   "source": [
    "height_nrml"
   ]
  },
  {
   "cell_type": "code",
   "execution_count": 73,
   "id": "b13c7af7",
   "metadata": {},
   "outputs": [],
   "source": [
    "weight_nrml = m3.fit_transform(df[['Weight']])"
   ]
  },
  {
   "cell_type": "code",
   "execution_count": 74,
   "id": "9f13ead5",
   "metadata": {},
   "outputs": [
    {
     "data": {
      "text/plain": [
       "array([[1.],\n",
       "       [1.],\n",
       "       [1.],\n",
       "       ...,\n",
       "       [1.],\n",
       "       [1.],\n",
       "       [1.]])"
      ]
     },
     "execution_count": 74,
     "metadata": {},
     "output_type": "execute_result"
    }
   ],
   "source": [
    "weight_nrml"
   ]
  },
  {
   "cell_type": "code",
   "execution_count": 75,
   "id": "789e89e8",
   "metadata": {},
   "outputs": [],
   "source": [
    "df['weight_nrml'] = weight_nrml"
   ]
  },
  {
   "cell_type": "code",
   "execution_count": 76,
   "id": "8a75482f",
   "metadata": {},
   "outputs": [],
   "source": [
    "df['height_nrml'] = height_nrml"
   ]
  },
  {
   "cell_type": "code",
   "execution_count": 77,
   "id": "e67e47d1",
   "metadata": {},
   "outputs": [
    {
     "data": {
      "text/html": [
       "<div>\n",
       "<style scoped>\n",
       "    .dataframe tbody tr th:only-of-type {\n",
       "        vertical-align: middle;\n",
       "    }\n",
       "\n",
       "    .dataframe tbody tr th {\n",
       "        vertical-align: top;\n",
       "    }\n",
       "\n",
       "    .dataframe thead th {\n",
       "        text-align: right;\n",
       "    }\n",
       "</style>\n",
       "<table border=\"1\" class=\"dataframe\">\n",
       "  <thead>\n",
       "    <tr style=\"text-align: right;\">\n",
       "      <th></th>\n",
       "      <th>Height</th>\n",
       "      <th>Weight</th>\n",
       "      <th>h_fit</th>\n",
       "      <th>w_fit</th>\n",
       "      <th>h_fit1</th>\n",
       "      <th>height_std</th>\n",
       "      <th>weight_std</th>\n",
       "      <th>weight_nrml</th>\n",
       "      <th>height_nrml</th>\n",
       "    </tr>\n",
       "  </thead>\n",
       "  <tbody>\n",
       "    <tr>\n",
       "      <th>0</th>\n",
       "      <td>73.847017</td>\n",
       "      <td>241.893563</td>\n",
       "      <td>0.737399</td>\n",
       "      <td>0.862415</td>\n",
       "      <td>3.737399</td>\n",
       "      <td>1.687303</td>\n",
       "      <td>2.763895</td>\n",
       "      <td>1.0</td>\n",
       "      <td>1.0</td>\n",
       "    </tr>\n",
       "    <tr>\n",
       "      <th>1</th>\n",
       "      <td>68.781904</td>\n",
       "      <td>162.310473</td>\n",
       "      <td>0.479213</td>\n",
       "      <td>0.472703</td>\n",
       "      <td>3.479213</td>\n",
       "      <td>-0.084847</td>\n",
       "      <td>-1.235197</td>\n",
       "      <td>1.0</td>\n",
       "      <td>1.0</td>\n",
       "    </tr>\n",
       "    <tr>\n",
       "      <th>2</th>\n",
       "      <td>74.110105</td>\n",
       "      <td>212.740856</td>\n",
       "      <td>0.750810</td>\n",
       "      <td>0.719657</td>\n",
       "      <td>3.750810</td>\n",
       "      <td>1.779350</td>\n",
       "      <td>1.298956</td>\n",
       "      <td>1.0</td>\n",
       "      <td>1.0</td>\n",
       "    </tr>\n",
       "    <tr>\n",
       "      <th>3</th>\n",
       "      <td>71.730978</td>\n",
       "      <td>220.042470</td>\n",
       "      <td>0.629538</td>\n",
       "      <td>0.755412</td>\n",
       "      <td>3.629538</td>\n",
       "      <td>0.946957</td>\n",
       "      <td>1.665866</td>\n",
       "      <td>1.0</td>\n",
       "      <td>1.0</td>\n",
       "    </tr>\n",
       "    <tr>\n",
       "      <th>4</th>\n",
       "      <td>69.881796</td>\n",
       "      <td>206.349801</td>\n",
       "      <td>0.535279</td>\n",
       "      <td>0.688360</td>\n",
       "      <td>3.535279</td>\n",
       "      <td>0.299976</td>\n",
       "      <td>0.977802</td>\n",
       "      <td>1.0</td>\n",
       "      <td>1.0</td>\n",
       "    </tr>\n",
       "  </tbody>\n",
       "</table>\n",
       "</div>"
      ],
      "text/plain": [
       "      Height      Weight     h_fit     w_fit    h_fit1  height_std  \\\n",
       "0  73.847017  241.893563  0.737399  0.862415  3.737399    1.687303   \n",
       "1  68.781904  162.310473  0.479213  0.472703  3.479213   -0.084847   \n",
       "2  74.110105  212.740856  0.750810  0.719657  3.750810    1.779350   \n",
       "3  71.730978  220.042470  0.629538  0.755412  3.629538    0.946957   \n",
       "4  69.881796  206.349801  0.535279  0.688360  3.535279    0.299976   \n",
       "\n",
       "   weight_std  weight_nrml  height_nrml  \n",
       "0    2.763895          1.0          1.0  \n",
       "1   -1.235197          1.0          1.0  \n",
       "2    1.298956          1.0          1.0  \n",
       "3    1.665866          1.0          1.0  \n",
       "4    0.977802          1.0          1.0  "
      ]
     },
     "execution_count": 77,
     "metadata": {},
     "output_type": "execute_result"
    }
   ],
   "source": [
    "df.head()"
   ]
  },
  {
   "cell_type": "markdown",
   "id": "292ccef3",
   "metadata": {},
   "source": [
    "# RobustScaler"
   ]
  },
  {
   "cell_type": "code",
   "execution_count": 81,
   "id": "42f3e6b5",
   "metadata": {},
   "outputs": [],
   "source": [
    "from sklearn.preprocessing import RobustScaler"
   ]
  },
  {
   "cell_type": "code",
   "execution_count": 82,
   "id": "69f47f7d",
   "metadata": {},
   "outputs": [],
   "source": [
    "m4 = RobustScaler()"
   ]
  },
  {
   "cell_type": "code",
   "execution_count": 83,
   "id": "30d013a7",
   "metadata": {},
   "outputs": [],
   "source": [
    "height_rs = m4.fit_transform(df[['Height']])"
   ]
  },
  {
   "cell_type": "code",
   "execution_count": 84,
   "id": "a3d9a256",
   "metadata": {},
   "outputs": [
    {
     "data": {
      "text/plain": [
       "array([[ 1.269587  ],\n",
       "       [-0.06933886],\n",
       "       [ 1.3391325 ],\n",
       "       ...,\n",
       "       [ 1.28690994],\n",
       "       [-0.43568704],\n",
       "       [ 0.97668281]])"
      ]
     },
     "execution_count": 84,
     "metadata": {},
     "output_type": "execute_result"
    }
   ],
   "source": [
    "height_rs"
   ]
  },
  {
   "cell_type": "code",
   "execution_count": 85,
   "id": "41cedffe",
   "metadata": {},
   "outputs": [],
   "source": [
    "weight_rs = m4.fit_transform(df[['Weight']])"
   ]
  },
  {
   "cell_type": "code",
   "execution_count": 86,
   "id": "af11f3c4",
   "metadata": {},
   "outputs": [
    {
     "data": {
      "text/plain": [
       "array([[ 2.062916  ],\n",
       "       [-0.94473539],\n",
       "       [ 0.96115958],\n",
       "       ...,\n",
       "       [ 0.57148408],\n",
       "       [-1.62624172],\n",
       "       [-0.00322981]])"
      ]
     },
     "execution_count": 86,
     "metadata": {},
     "output_type": "execute_result"
    }
   ],
   "source": [
    "weight_rs"
   ]
  },
  {
   "cell_type": "code",
   "execution_count": 87,
   "id": "093a07dc",
   "metadata": {},
   "outputs": [],
   "source": [
    "df['weight_rs'] = weight_rs"
   ]
  },
  {
   "cell_type": "code",
   "execution_count": 88,
   "id": "3cc879bc",
   "metadata": {},
   "outputs": [],
   "source": [
    "df['height_rs'] = height_rs"
   ]
  },
  {
   "cell_type": "code",
   "execution_count": 89,
   "id": "081cceb8",
   "metadata": {},
   "outputs": [
    {
     "data": {
      "text/html": [
       "<div>\n",
       "<style scoped>\n",
       "    .dataframe tbody tr th:only-of-type {\n",
       "        vertical-align: middle;\n",
       "    }\n",
       "\n",
       "    .dataframe tbody tr th {\n",
       "        vertical-align: top;\n",
       "    }\n",
       "\n",
       "    .dataframe thead th {\n",
       "        text-align: right;\n",
       "    }\n",
       "</style>\n",
       "<table border=\"1\" class=\"dataframe\">\n",
       "  <thead>\n",
       "    <tr style=\"text-align: right;\">\n",
       "      <th></th>\n",
       "      <th>Height</th>\n",
       "      <th>Weight</th>\n",
       "      <th>h_fit</th>\n",
       "      <th>w_fit</th>\n",
       "      <th>h_fit1</th>\n",
       "      <th>height_std</th>\n",
       "      <th>weight_std</th>\n",
       "      <th>weight_nrml</th>\n",
       "      <th>height_nrml</th>\n",
       "      <th>weight_rs</th>\n",
       "      <th>height_rs</th>\n",
       "    </tr>\n",
       "  </thead>\n",
       "  <tbody>\n",
       "    <tr>\n",
       "      <th>0</th>\n",
       "      <td>73.847017</td>\n",
       "      <td>241.893563</td>\n",
       "      <td>0.737399</td>\n",
       "      <td>0.862415</td>\n",
       "      <td>3.737399</td>\n",
       "      <td>1.687303</td>\n",
       "      <td>2.763895</td>\n",
       "      <td>1.0</td>\n",
       "      <td>1.0</td>\n",
       "      <td>2.062916</td>\n",
       "      <td>1.269587</td>\n",
       "    </tr>\n",
       "    <tr>\n",
       "      <th>1</th>\n",
       "      <td>68.781904</td>\n",
       "      <td>162.310473</td>\n",
       "      <td>0.479213</td>\n",
       "      <td>0.472703</td>\n",
       "      <td>3.479213</td>\n",
       "      <td>-0.084847</td>\n",
       "      <td>-1.235197</td>\n",
       "      <td>1.0</td>\n",
       "      <td>1.0</td>\n",
       "      <td>-0.944735</td>\n",
       "      <td>-0.069339</td>\n",
       "    </tr>\n",
       "    <tr>\n",
       "      <th>2</th>\n",
       "      <td>74.110105</td>\n",
       "      <td>212.740856</td>\n",
       "      <td>0.750810</td>\n",
       "      <td>0.719657</td>\n",
       "      <td>3.750810</td>\n",
       "      <td>1.779350</td>\n",
       "      <td>1.298956</td>\n",
       "      <td>1.0</td>\n",
       "      <td>1.0</td>\n",
       "      <td>0.961160</td>\n",
       "      <td>1.339132</td>\n",
       "    </tr>\n",
       "    <tr>\n",
       "      <th>3</th>\n",
       "      <td>71.730978</td>\n",
       "      <td>220.042470</td>\n",
       "      <td>0.629538</td>\n",
       "      <td>0.755412</td>\n",
       "      <td>3.629538</td>\n",
       "      <td>0.946957</td>\n",
       "      <td>1.665866</td>\n",
       "      <td>1.0</td>\n",
       "      <td>1.0</td>\n",
       "      <td>1.237107</td>\n",
       "      <td>0.710228</td>\n",
       "    </tr>\n",
       "    <tr>\n",
       "      <th>4</th>\n",
       "      <td>69.881796</td>\n",
       "      <td>206.349801</td>\n",
       "      <td>0.535279</td>\n",
       "      <td>0.688360</td>\n",
       "      <td>3.535279</td>\n",
       "      <td>0.299976</td>\n",
       "      <td>0.977802</td>\n",
       "      <td>1.0</td>\n",
       "      <td>1.0</td>\n",
       "      <td>0.719625</td>\n",
       "      <td>0.221410</td>\n",
       "    </tr>\n",
       "  </tbody>\n",
       "</table>\n",
       "</div>"
      ],
      "text/plain": [
       "      Height      Weight     h_fit     w_fit    h_fit1  height_std  \\\n",
       "0  73.847017  241.893563  0.737399  0.862415  3.737399    1.687303   \n",
       "1  68.781904  162.310473  0.479213  0.472703  3.479213   -0.084847   \n",
       "2  74.110105  212.740856  0.750810  0.719657  3.750810    1.779350   \n",
       "3  71.730978  220.042470  0.629538  0.755412  3.629538    0.946957   \n",
       "4  69.881796  206.349801  0.535279  0.688360  3.535279    0.299976   \n",
       "\n",
       "   weight_std  weight_nrml  height_nrml  weight_rs  height_rs  \n",
       "0    2.763895          1.0          1.0   2.062916   1.269587  \n",
       "1   -1.235197          1.0          1.0  -0.944735  -0.069339  \n",
       "2    1.298956          1.0          1.0   0.961160   1.339132  \n",
       "3    1.665866          1.0          1.0   1.237107   0.710228  \n",
       "4    0.977802          1.0          1.0   0.719625   0.221410  "
      ]
     },
     "execution_count": 89,
     "metadata": {},
     "output_type": "execute_result"
    }
   ],
   "source": [
    "df.head()"
   ]
  },
  {
   "cell_type": "code",
   "execution_count": null,
   "id": "ab6aa4b3",
   "metadata": {},
   "outputs": [],
   "source": []
  }
 ],
 "metadata": {
  "kernelspec": {
   "display_name": "Python 3 (ipykernel)",
   "language": "python",
   "name": "python3"
  },
  "language_info": {
   "codemirror_mode": {
    "name": "ipython",
    "version": 3
   },
   "file_extension": ".py",
   "mimetype": "text/x-python",
   "name": "python",
   "nbconvert_exporter": "python",
   "pygments_lexer": "ipython3",
   "version": "3.9.7"
  }
 },
 "nbformat": 4,
 "nbformat_minor": 5
}
